{
 "cells": [
  {
   "cell_type": "code",
   "execution_count": null,
   "metadata": {},
   "outputs": [],
   "source": [
    "from selenium import webdriver\n",
    "import time\n",
    "import requests\n",
    "import os\n",
    "import matplotlib.pyplot as plt\n",
    "import cv2\n",
    "from bs4 import BeautifulSoup\n",
    "import datetime\n",
    "import pandas as pd"
   ]
  },
  {
   "cell_type": "code",
   "execution_count": null,
   "metadata": {},
   "outputs": [],
   "source": [
    "#開啟瀏覽器進入FB\n",
    "def OpenBrowser():\n",
    "    profile=webdriver.FirefoxProfile()\n",
    "    profile.set_preference(\"dom.webnotifications.enabled\",False)\n",
    "    profile.update_preferences()\n",
    "    driver=webdriver.Firefox(firefox_profile=profile)\n",
    "    driver.get(\"https://www.facebook.com\")\n",
    "    time.sleep(3)\n",
    "    return driver\n"
   ]
  },
  {
   "cell_type": "code",
   "execution_count": null,
   "metadata": {},
   "outputs": [],
   "source": [
    "#登入爬蟲帳號\n",
    "def LoginFB(USERNAME,PASSWORD,driver):\n",
    "    driver.find_element_by_id(\"email\").send_keys(USERNAME)\n",
    "    driver.find_element_by_id(\"pass\").send_keys(PASSWORD)\n",
    "    driver.find_element_by_id(\"loginbutton\").click()\n",
    "    time.sleep(3)"
   ]
  },
  {
   "cell_type": "code",
   "execution_count": null,
   "metadata": {},
   "outputs": [],
   "source": [
    "#切換至目標頁\n",
    "def Go_to_Target_Page(target,driver):\n",
    "    driver.get(\"https://www.facebook.com/\"+target)\n",
    "    time.sleep(3)"
   ]
  },
  {
   "cell_type": "code",
   "execution_count": null,
   "metadata": {},
   "outputs": [],
   "source": [
    "#取得html資訊\n",
    "def Get_HTML(driver,rolling):\n",
    "    for i in range(rolling):\n",
    "        driver.execute_script(\"window.scrollTo(0, {})\".format(4000 * (i + 1)))\n",
    "        time.sleep(2)\n",
    "    \n",
    "    htmltext=driver.page_source\n",
    "    soup=BeautifulSoup(htmltext,'html.parser')\n",
    "    body=soup.find('body')\n",
    "    return body"
   ]
  },
  {
   "cell_type": "code",
   "execution_count": null,
   "metadata": {},
   "outputs": [],
   "source": [
    "#取得FB ID\n",
    "def Get_ID(body):\n",
    "    FB_ID=body.find('a',{'class':'coverWrap coverImage'})\n",
    "    DataReferrerid=FB_ID.get('data-referrerid')\n",
    "    return DataReferrerid"
   ]
  },
  {
   "cell_type": "code",
   "execution_count": null,
   "metadata": {},
   "outputs": [],
   "source": [
    "#取得貼文內容\n",
    "def Get_Post(body,target):\n",
    "    post=body.select('div[data-testid=\"post_message\"]')\n",
    "    post_text=[]\n",
    "    for i in range(len(post)):\n",
    "        post_text.append(post[i].text)\n",
    "\n",
    "    post_list=pd.DataFrame()\n",
    "    post_list['text']=post_text\n",
    "    if not os.path.isdir(str(target)):\n",
    "        os.mkdir(str(target))\n",
    "    post_list.to_csv(str(target)+'/post_list.csv',index=False)"
   ]
  },
  {
   "cell_type": "code",
   "execution_count": null,
   "metadata": {},
   "outputs": [],
   "source": [
    "#取得封面頁\n",
    "def Get_CoverBorder(body,target):\n",
    "    coverBorder=body.find('img',{'class':'coverPhotoImg photo img'})\n",
    "    cover_URL=coverBorder.get('src')\n",
    "    #print(cover_URL)\n",
    "\n",
    "    r=requests.get(cover_URL)\n",
    "    if not os.path.isdir(target):\n",
    "        os.mkdir(target)\n",
    "    with open(str(target)+'/coverBorder.jpg','wb') as f:\n",
    "        f.write(r.content)"
   ]
  },
  {
   "cell_type": "code",
   "execution_count": null,
   "metadata": {},
   "outputs": [],
   "source": [
    "#取得大頭貼\n",
    "def Get_BigHead(body,target):\n",
    "    BigHead=body.find('img',{'class':'_11kf img'})\n",
    "    BigHead_URL=BigHead.get('src')\n",
    "    #print(BigHead_URL)\n",
    "\n",
    "    r=requests.get(BigHead_URL)\n",
    "    if not os.path.isdir(target):\n",
    "        os.mkdir(target)\n",
    "    with open(str(target)+'/BigHead.jpg','wb') as f:\n",
    "        f.write(r.content)"
   ]
  },
  {
   "cell_type": "code",
   "execution_count": null,
   "metadata": {},
   "outputs": [],
   "source": [
    "#切換至照片頁\n",
    "def Go_to_Photo_Page(driver,target):\n",
    "    driver.get(\"https://www.facebook.com/\"+target+\"/photos_all\")\n",
    "    time.sleep(3)"
   ]
  },
  {
   "cell_type": "code",
   "execution_count": null,
   "metadata": {},
   "outputs": [],
   "source": [
    "#取得照片\n",
    "def Get_Photos(driver,target,rolling):\n",
    "    for i in range(rolling):\n",
    "        driver.execute_script(\"window.scrollTo(0, {})\".format(4000 * (i + 1)))\n",
    "        time.sleep(2)\n",
    "        \n",
    "    photo_htmltext=driver.page_source\n",
    "    photo_soup=BeautifulSoup(photo_htmltext,'html.parser')\n",
    "    photo_body=photo_soup.find('body')\n",
    "    photos=photo_body.find_all('li',{'class':'fbPhotoStarGridElement fbPhotoStarGridNonStarred focus_target _53s fbPhotoCurationControlWrapper'})\n",
    "    print(\"共有 \",len(photos),\" 張圖片\")\n",
    "\n",
    "    photos_URL=[]\n",
    "    path=str(target)+'/photo'\n",
    "    if not os.path.isdir(path):\n",
    "        os.mkdir(path)\n",
    "    \n",
    "    fail_count=0\n",
    "    for i in range(len(photos)):\n",
    "        try:\n",
    "            with open(path+'/photo_'+str(i)+'.jpg','wb') as f:\n",
    "                r=requests.get(photos[i].get('data-starred-src'))\n",
    "                f.write(r.content)\n",
    "        except:\n",
    "            fail_count+=1\n",
    "    print(len(photos)-fail_count,\" 張圖片下載成功\")\n",
    "    print(fail_count,\" 張圖片下載失敗\")"
   ]
  },
  {
   "cell_type": "code",
   "execution_count": null,
   "metadata": {},
   "outputs": [],
   "source": [
    "#切換至好友頁\n",
    "def Go_to_Friend_Page(driver,target):\n",
    "    driver.get(\"https://www.facebook.com/\"+target+\"/friends_all\")\n",
    "    time.sleep(3)"
   ]
  },
  {
   "cell_type": "code",
   "execution_count": null,
   "metadata": {},
   "outputs": [],
   "source": [
    "#取得好友清單 (名字,ID)\n",
    "def Get_Friends(driver,target,rolling):\n",
    "    for i in range(rolling):\n",
    "        driver.execute_script(\"window.scrollTo(0, {})\".format(4000 * (i + 1)))\n",
    "        time.sleep(2)\n",
    "    \n",
    "    friend_htmltext=driver.page_source\n",
    "    friend_soup=BeautifulSoup(friend_htmltext,'html.parser')\n",
    "    friend_body=friend_soup.find('body')\n",
    "    \n",
    "    friends=friend_body.find_all('li',{'class':'_698'})\n",
    "    print(\"共有 \",len(friends),\" 位好友\")\n",
    "    friend_name=[]\n",
    "    friend_ID=[]\n",
    "    for i in range(len(friends)):\n",
    "        friend_name.append(friends[i].find('div',{'class':'fsl fwb fcb'}).text)\n",
    "        try:\n",
    "            friend_ID.append(friends[i].find('button',{'data-floc':'friends_tab'}).get('data-profileid'))\n",
    "\n",
    "        except:\n",
    "            friend_ID.append(friends[i].find('a',{'data-floc':'friends_tab'}).get('data-profileid'))\n",
    "\n",
    "    friend_list=pd.DataFrame()\n",
    "    friend_list['name']=friend_name\n",
    "    friend_list['ID']=friend_ID\n",
    "    if not os.path.isdir(target):\n",
    "        os.mkdir(target)\n",
    "    friend_list.to_csv(str(target)+'/friend_list.csv',index=False)"
   ]
  },
  {
   "cell_type": "code",
   "execution_count": null,
   "metadata": {},
   "outputs": [],
   "source": [
    "driver=OpenBrowser()"
   ]
  },
  {
   "cell_type": "code",
   "execution_count": null,
   "metadata": {},
   "outputs": [],
   "source": [
    "rolling=15\n",
    "USERNAME=\"USERNAME\"\n",
    "PASSWORD=\"PASSWORD\"\n",
    "LoginFB(USERNAME,PASSWORD,driver)"
   ]
  },
  {
   "cell_type": "code",
   "execution_count": null,
   "metadata": {},
   "outputs": [],
   "source": [
    "target='target'#username like \"xiao.ming.wang\"\n",
    "Go_to_Target_Page(target,driver)"
   ]
  },
  {
   "cell_type": "code",
   "execution_count": null,
   "metadata": {},
   "outputs": [],
   "source": [
    "body=Get_HTML(driver,rolling)"
   ]
  },
  {
   "cell_type": "code",
   "execution_count": null,
   "metadata": {},
   "outputs": [],
   "source": [
    "ID=Get_ID(body)\n",
    "print('FB ID: ',ID)"
   ]
  },
  {
   "cell_type": "code",
   "execution_count": null,
   "metadata": {},
   "outputs": [],
   "source": [
    "Get_Post(body,target)"
   ]
  },
  {
   "cell_type": "code",
   "execution_count": null,
   "metadata": {},
   "outputs": [],
   "source": [
    "Get_CoverBorder(body,target)"
   ]
  },
  {
   "cell_type": "code",
   "execution_count": null,
   "metadata": {},
   "outputs": [],
   "source": [
    "Get_BigHead(body,target)"
   ]
  },
  {
   "cell_type": "code",
   "execution_count": null,
   "metadata": {},
   "outputs": [],
   "source": [
    "Go_to_Photo_Page(driver,target)"
   ]
  },
  {
   "cell_type": "code",
   "execution_count": null,
   "metadata": {},
   "outputs": [],
   "source": [
    "Get_Photos(driver,target,rolling)"
   ]
  },
  {
   "cell_type": "code",
   "execution_count": null,
   "metadata": {},
   "outputs": [],
   "source": [
    "Go_to_Friend_Page(driver,target)"
   ]
  },
  {
   "cell_type": "code",
   "execution_count": null,
   "metadata": {},
   "outputs": [],
   "source": [
    "Get_Friends(driver,target,rolling)"
   ]
  }
 ],
 "metadata": {
  "kernelspec": {
   "display_name": "Python 3",
   "language": "python",
   "name": "python3"
  },
  "language_info": {
   "codemirror_mode": {
    "name": "ipython",
    "version": 3
   },
   "file_extension": ".py",
   "mimetype": "text/x-python",
   "name": "python",
   "nbconvert_exporter": "python",
   "pygments_lexer": "ipython3",
   "version": "3.7.3"
  }
 },
 "nbformat": 4,
 "nbformat_minor": 2
}
